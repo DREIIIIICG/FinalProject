{
 "cells": [
  {
   "cell_type": "code",
   "execution_count": null,
   "metadata": {},
   "outputs": [
    {
     "data": {
      "text/plain": [
       "Model Name: DiabetesModel\n",
       " - Version: 1, Stage: Production\n"
      ]
     },
     "metadata": {},
     "output_type": "display_data"
    }
   ],
   "source": [
    "import mlflow\n",
    "from mlflow.tracking import MlflowClient\n",
    "\n",
    "mlflow.set_tracking_uri(\"http://127.0.0.1:5000\")\n",
    "client = MlflowClient()\n",
    "\n",
    "# List registered models\n",
    "models = client.search_registered_models()\n",
    "for model in models:\n",
    "    print(f\"Model Name: {model.name}\")\n",
    "    for version in model.latest_versions:\n",
    "        print(f\" - Version: {version.version}, Stage: {version.current_stage}\")"
   ]
  },
  {
   "cell_type": "code",
   "execution_count": null,
   "metadata": {},
   "outputs": [
    {
     "data": {
      "text/plain": [
       "Features shape: (769, 8)\n",
       "Labels shape: (768, 1)\n",
       "\n",
       "Last 5 rows of features:\n",
       "            0         1         2  ...         5         6         7\n",
       "764  1.827813 -0.679977  0.298896  ...  0.065361 -0.908682  2.532136\n",
       "765 -0.547919  0.010445 -0.197433  ...  0.632973 -0.398282 -0.531023\n",
       "766  0.342981 -0.022432 -0.031990  ... -0.909768 -0.685193 -0.275760\n",
       "767 -0.844885  0.141954 -1.024647  ... -0.342155 -0.371101  1.170732\n",
       "768 -0.844885 -0.942995 -0.197433  ... -0.298493 -0.473785 -0.871374\n",
       "\n",
       "[5 rows x 8 columns]\n",
       "\n",
       "Last 5 rows of labels:\n",
       "     Outcome\n",
       "763        0\n",
       "764        0\n",
       "765        0\n",
       "766        1\n",
       "767        0\n",
       "\n",
       "Checking for missing values...\n",
       "Missing in features: 0\n",
       "Missing in labels: 0\n"
      ]
     },
     "metadata": {},
     "output_type": "display_data"
    }
   ],
   "source": [
    "import pandas as pd\n",
    "\n",
    "# Load data\n",
    "X = pd.read_csv(\"scaled_features.csv\", header=None)\n",
    "y = pd.read_csv(\"labels.csv\")\n",
    "\n",
    "# Check if labels file has extra headers or incorrect rows\n",
    "if y.shape[1] > 1:\n",
    "    y = pd.read_csv(\"labels.csv\", header=None)\n",
    "\n",
    "print(\"Features shape:\", X.shape)\n",
    "print(\"Labels shape:\", y.shape)\n",
    "\n",
    "# Check for extra row in features\n",
    "print(\"\\nLast 5 rows of features:\")\n",
    "print(X.tail())\n",
    "\n",
    "print(\"\\nLast 5 rows of labels:\")\n",
    "print(y.tail())\n",
    "\n",
    "# Check for duplicate or empty rows\n",
    "print(\"\\nChecking for missing values...\")\n",
    "print(\"Missing in features:\", X.isnull().sum().sum())\n",
    "print(\"Missing in labels:\", y.isnull().sum().sum())"
   ]
  },
  {
   "cell_type": "code",
   "execution_count": null,
   "metadata": {},
   "outputs": [
    {
     "data": {
      "text/plain": [
       "✅ Fixed features shape: (768, 8)\n"
      ]
     },
     "metadata": {},
     "output_type": "display_data"
    }
   ],
   "source": [
    "import pandas as pd\n",
    "\n",
    "# Load the data\n",
    "X = pd.read_csv(\"scaled_features.csv\", header=None)\n",
    "y = pd.read_csv(\"labels.csv\")\n",
    "\n",
    "# Ensure y has no extra headers\n",
    "if y.shape[1] > 1:\n",
    "    y = pd.read_csv(\"labels.csv\", header=None)\n",
    "\n",
    "# Remove last row from features\n",
    "X = X.iloc[:768]  # Keep only first 768 rows\n",
    "\n",
    "# Save the corrected features file\n",
    "X.to_csv(\"scaled_features_fixed.csv\", index=False, header=False)\n",
    "\n",
    "print(\"✅ Fixed features shape:\", X.shape)"
   ]
  },
  {
   "cell_type": "code",
   "execution_count": null,
   "metadata": {},
   "outputs": [
    {
     "data": {
      "text/plain": [
       "Features shape: (768, 8)\n",
       "Labels shape: (768, 1)\n"
      ]
     },
     "metadata": {},
     "output_type": "display_data"
    }
   ],
   "source": [
    "import pandas as pd\n",
    "\n",
    "# Read the scaled features correctly (first row as header)\n",
    "X = pd.read_csv(\"scaled_features.csv\", header=0)  \n",
    "\n",
    "# Read labels (ensure first row is header if needed)\n",
    "y = pd.read_csv(\"labels.csv\", header=0)  \n",
    "\n",
    "# Check shape after correction\n",
    "print(f\"Features shape: {X.shape}\")  # Should be (768, n)\n",
    "print(f\"Labels shape: {y.shape}\")  # Should be (768, 1)"
   ]
  },
  {
   "cell_type": "code",
   "execution_count": null,
   "metadata": {},
   "outputs": [
    {
     "data": {
      "text/plain": [
       "<ModelVersion: aliases=[], creation_timestamp=1741111126549, current_stage='Production', description='', last_updated_timestamp=1741111213780, name='DiabetesModel', run_id='fe8132f80e974cb3aa0d228cfb1216a9', run_link='', source='mlflow-artifacts:/0/fe8132f80e974cb3aa0d228cfb1216a9/artifacts/knn_model', status='READY', status_message=None, tags={}, user_id='', version='2'>\n"
      ]
     },
     "metadata": {},
     "output_type": "display_data"
    }
   ],
   "source": [
    "client.transition_model_version_stage(name=\"DiabetesModel\", version=2, stage=\"Production\")"
   ]
  },
  {
   "cell_type": "code",
   "execution_count": null,
   "metadata": {},
   "outputs": [],
   "source": []
  }
 ],
 "metadata": {
  "language_info": {
   "name": "python"
  }
 },
 "nbformat": 4,
 "nbformat_minor": 2
}
